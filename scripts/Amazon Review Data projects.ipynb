{
 "cells": [
  {
   "cell_type": "markdown",
   "metadata": {},
   "source": [
    "# Amazon Review Data Warehouse\n",
    "\n",
    "### Data Engineering Capstone Project\n",
    "\n",
    "#### Project Summary\n",
    "\n",
    "![](https://cdn.vox-cdn.com/thumbor/UJ_Tk3JEUG4RQWzlhrDyzou4cjk=/0x0:2040x1360/1200x800/filters:focal(857x517:1183x843)/cdn.vox-cdn.com/uploads/chorus_image/image/66674578/acastro_190920_1777_amazon_0002.0.0.jpg)\n",
    "\n",
    "* [Data Reference](http://jmcauley.ucsd.edu/data/amazon/)\n",
    "\n",
    "* [project rubric](https://review.udacity.com/#!/rubrics/2497/view)\n"
   ]
  },
  {
   "cell_type": "markdown",
   "metadata": {},
   "source": [
    "#### Load Modules "
   ]
  },
  {
   "cell_type": "code",
   "execution_count": 1,
   "metadata": {},
   "outputs": [],
   "source": [
    "%matplotlib inline\n",
    "import os\n",
    "import pandas as pd\n",
    "\n",
    "from pyspark.sql import SparkSession\n",
    "from pyspark.sql import types as T\n",
    "from configparser import ConfigParser\n",
    "import psycopg2\n",
    "from datetime import datetime\n",
    "import matplotlib.pyplot as plt\n",
    "\n",
    "config = ConfigParser()\n",
    "config.read(\"../aws.cfg\")\n",
    "\n",
    "os.environ['AWS_ACCESS_KEY_ID']=config[\"CREDENTIALS\"]['AWS_ACCESS_KEY_ID']\n",
    "os.environ['AWS_SECRET_ACCESS_KEY']=config[\"CREDENTIALS\"]['AWS_SECRET_ACCESS_KEY']\n",
    "\n",
    "AWS_ACCESS_KEY=config[\"CREDENTIALS\"]['AWS_ACCESS_KEY_ID']\n",
    "AWS_SECRET_KEY=config[\"CREDENTIALS\"]['AWS_SECRET_ACCESS_KEY']"
   ]
  },
  {
   "cell_type": "markdown",
   "metadata": {},
   "source": [
    "#### Create Spark Session"
   ]
  },
  {
   "cell_type": "code",
   "execution_count": 2,
   "metadata": {},
   "outputs": [],
   "source": [
    "def create_spark_session():\n",
    "    global AWS_ACCESS_KEY, AWS_SECRET_KEY\n",
    "    return (\n",
    "        SparkSession.builder\n",
    "        .config(\"fs.s3a.awsAccessKeyId\", AWS_ACCESS_KEY)\n",
    "        .config(\"fs.s3a.awsSecretAccessKey\", AWS_SECRET_KEY)\n",
    "        .config(\"spark.jars.packages\", \n",
    "                \"org.apache.hadoop:hadoop-aws:2.7.3\"\n",
    "                \",org.postgresql:postgresql:42.2.6\")\n",
    "        .getOrCreate())"
   ]
  },
  {
   "cell_type": "code",
   "execution_count": 3,
   "metadata": {},
   "outputs": [],
   "source": [
    "spark = create_spark_session()"
   ]
  },
  {
   "cell_type": "markdown",
   "metadata": {},
   "source": [
    "## Step 1: Scope the Project and Gather Data\n",
    "\n",
    "### Scope\n",
    "\n",
    "Amazon Customer Reviews is one of Amazons iconic products. In a period of over two decades since the first review in 1995, millions of Amazon customers have contributed over a hundred million reviews to express opinions and describe their experiences regarding products on the Amazon.com website. Specifically, this dataset was constructed to represent a sample of customer evaluations and opinions, variation in the perception of a product across geographical regions, and promotional intent or bias in reviews.\n",
    "\n",
    "We build a data warehouse which analyze customre responses using data from 'books' categoreis in Amazon's reviews.\n",
    "\n",
    "\n",
    "\n",
    "### Describe and Gather Data\n",
    "\n",
    "1. **meta data** : including product metadata(descriptions, category information, price, brand, and image features)\n",
    "2. **review data** : including reviews (ratings, text, helpfulness votes)"
   ]
  },
  {
   "cell_type": "markdown",
   "metadata": {},
   "source": [
    "#### 1. meta-data"
   ]
  },
  {
   "cell_type": "markdown",
   "metadata": {},
   "source": [
    "| columns    | description |\n",
    "| :--------  | :---- |\n",
    "| asin       | ID of the product, e.g. 000031852 | \n",
    "| title      | name of the product |\n",
    "| feature    | bullet-point format features of the product |\n",
    "| desription | description of the product |\n",
    "| price      | price in US dollars (at time of crawl) |\n",
    "| image      | url of the product image |\n",
    "| also_buy    | related products (also buy) |\n",
    "| also_view    | related products (also view) |\n",
    "| rank  | sales rank information |\n",
    "| brand      | brand name |\n",
    "| category | list of categories the product belongs to |"
   ]
  },
  {
   "cell_type": "code",
   "execution_count": 118,
   "metadata": {},
   "outputs": [],
   "source": [
    "metaSchema = T.StructType([\n",
    "    T.StructField('asin', T.StringType()),\n",
    "    T.StructField('title', T.StringType()),\n",
    "    T.StructField('feature', T.ArrayType(T.StringType())),\n",
    "    T.StructField('description', T.ArrayType(T.StringType())),\n",
    "    T.StructField('price', T.StringType()),\n",
    "    T.StructField('image', T.ArrayType(T.StringType())),\n",
    "    T.StructField('also_buy', T.ArrayType(T.StringType())),\n",
    "    T.StructField('also_view', T.ArrayType(T.StringType())),    \n",
    "    T.StructField('rank', T.StringType()),\n",
    "    T.StructField('brand', T.StringType()),\n",
    "    T.StructField('category', T.ArrayType(T.StringType()))\n",
    "])\n",
    "\n",
    "metaDf = (\n",
    "    spark.read\n",
    "    .schema(metaSchema)\n",
    "    .option('mode','DROPMALFORMED')\n",
    "    .json(\"s3a://udacity-capstone-craftsangjae/meta_Books.json.gz\"))"
   ]
  },
  {
   "cell_type": "code",
   "execution_count": 119,
   "metadata": {},
   "outputs": [
    {
     "data": {
      "text/html": [
       "<div>\n",
       "<style scoped>\n",
       "    .dataframe tbody tr th:only-of-type {\n",
       "        vertical-align: middle;\n",
       "    }\n",
       "\n",
       "    .dataframe tbody tr th {\n",
       "        vertical-align: top;\n",
       "    }\n",
       "\n",
       "    .dataframe thead th {\n",
       "        text-align: right;\n",
       "    }\n",
       "</style>\n",
       "<table border=\"1\" class=\"dataframe\">\n",
       "  <thead>\n",
       "    <tr style=\"text-align: right;\">\n",
       "      <th></th>\n",
       "      <th>asin</th>\n",
       "      <th>title</th>\n",
       "      <th>feature</th>\n",
       "      <th>description</th>\n",
       "      <th>price</th>\n",
       "      <th>image</th>\n",
       "      <th>also_buy</th>\n",
       "      <th>also_view</th>\n",
       "      <th>rank</th>\n",
       "      <th>brand</th>\n",
       "      <th>category</th>\n",
       "    </tr>\n",
       "  </thead>\n",
       "  <tbody>\n",
       "    <tr>\n",
       "      <th>0</th>\n",
       "      <td>0000092878</td>\n",
       "      <td>Biology Gods Living Creation Third Edition 10 ...</td>\n",
       "      <td>None</td>\n",
       "      <td>[It is a biology book with God's perspective.]</td>\n",
       "      <td>$39.94</td>\n",
       "      <td>None</td>\n",
       "      <td>[0669009075, B000K2P5SA, B00MD4G2N0, B000ASIPT...</td>\n",
       "      <td>[0019777701, B000AUCX7I, B000K2P5SA, B001CK63X...</td>\n",
       "      <td>1,349,781inBooks(</td>\n",
       "      <td>Keith Graham</td>\n",
       "      <td>None</td>\n",
       "    </tr>\n",
       "    <tr>\n",
       "      <th>1</th>\n",
       "      <td>000047715X</td>\n",
       "      <td>Mksap 16 Audio Companion: Medical Knowledge Se...</td>\n",
       "      <td>None</td>\n",
       "      <td>None</td>\n",
       "      <td>None</td>\n",
       "      <td>None</td>\n",
       "      <td>None</td>\n",
       "      <td>[B01MUCYEV7, B01KUGTY6O]</td>\n",
       "      <td>1,702,625inBooks(</td>\n",
       "      <td>Acp</td>\n",
       "      <td>[Books, New, Used &amp; Rental Textbooks, Medicine...</td>\n",
       "    </tr>\n",
       "    <tr>\n",
       "      <th>2</th>\n",
       "      <td>0000004545</td>\n",
       "      <td>Flex! Discography of North American Punk, Hard...</td>\n",
       "      <td>None</td>\n",
       "      <td>[Discography of American Punk, Hardcore, and P...</td>\n",
       "      <td>$199.99</td>\n",
       "      <td>None</td>\n",
       "      <td>None</td>\n",
       "      <td>None</td>\n",
       "      <td>6,291,012inBooks(</td>\n",
       "      <td>Burkhard Jarisch</td>\n",
       "      <td>[Books, Arts &amp; Photography, Music]</td>\n",
       "    </tr>\n",
       "    <tr>\n",
       "      <th>3</th>\n",
       "      <td>0000013765</td>\n",
       "      <td>Heavenly Highway Hymns: Shaped-Note Hymnal</td>\n",
       "      <td>None</td>\n",
       "      <td>[This is a collection of classic gospel hymns ...</td>\n",
       "      <td>None</td>\n",
       "      <td>None</td>\n",
       "      <td>None</td>\n",
       "      <td>[0006180116, 0996092730, B000QFOGY0, B06WWKNDL...</td>\n",
       "      <td>2,384,057inBooks(</td>\n",
       "      <td>Stamps/Baxter</td>\n",
       "      <td>[Books, Arts &amp; Photography, Music]</td>\n",
       "    </tr>\n",
       "    <tr>\n",
       "      <th>4</th>\n",
       "      <td>0000000116</td>\n",
       "      <td>Georgina Goodman Nelson Womens Size 8.5 Purple...</td>\n",
       "      <td>None</td>\n",
       "      <td>None</td>\n",
       "      <td>$164.10</td>\n",
       "      <td>None</td>\n",
       "      <td>None</td>\n",
       "      <td>None</td>\n",
       "      <td>11,735,726inBooks(</td>\n",
       "      <td>None</td>\n",
       "      <td>None</td>\n",
       "    </tr>\n",
       "    <tr>\n",
       "      <th>5</th>\n",
       "      <td>0000555010</td>\n",
       "      <td>Principles of Analgesic Use in the Treatment o...</td>\n",
       "      <td>None</td>\n",
       "      <td>[Brand new; never used.]</td>\n",
       "      <td>None</td>\n",
       "      <td>None</td>\n",
       "      <td>[0323056962, 0123979285]</td>\n",
       "      <td>[0323056962, 0521879272]</td>\n",
       "      <td>2,906,939inBooks(</td>\n",
       "      <td>American Pain Society</td>\n",
       "      <td>[Books, New, Used &amp; Rental Textbooks, Medicine...</td>\n",
       "    </tr>\n",
       "    <tr>\n",
       "      <th>6</th>\n",
       "      <td>0000477141</td>\n",
       "      <td>MKSAP 15 Audio Companion</td>\n",
       "      <td>None</td>\n",
       "      <td>[Flash cards used with accompany MKSAP 15 audi...</td>\n",
       "      <td>None</td>\n",
       "      <td>None</td>\n",
       "      <td>None</td>\n",
       "      <td>None</td>\n",
       "      <td>2,236,549inBooks(</td>\n",
       "      <td>ACP</td>\n",
       "      <td>[Books, Medical Books, Medicine]</td>\n",
       "    </tr>\n",
       "    <tr>\n",
       "      <th>7</th>\n",
       "      <td>0000230022</td>\n",
       "      <td>The Simple Truths of Service: Inspired by John...</td>\n",
       "      <td>None</td>\n",
       "      <td>[Simple Truths of Service: Inspired by Jonny t...</td>\n",
       "      <td>None</td>\n",
       "      <td>None</td>\n",
       "      <td>[1492630519, 0071819045, 0688123163, 160810640...</td>\n",
       "      <td>[0692842004, 1492630519, 1978489552, 160810640...</td>\n",
       "      <td>2,566,783inBooks(</td>\n",
       "      <td>Visit Amazon's Ken Blanchard Page</td>\n",
       "      <td>[Books, New, Used &amp; Rental Textbooks, Business...</td>\n",
       "    </tr>\n",
       "    <tr>\n",
       "      <th>8</th>\n",
       "      <td>0000038504</td>\n",
       "      <td>Double-Speak: From Revenue Enhancement to Term...</td>\n",
       "      <td>None</td>\n",
       "      <td>[This book will alert, amuse and appall you as...</td>\n",
       "      <td>$198.70</td>\n",
       "      <td>None</td>\n",
       "      <td>None</td>\n",
       "      <td>[0060171340, 0060161345, 0062734121]</td>\n",
       "      <td>2,505,873inBooks(</td>\n",
       "      <td>William Lutz</td>\n",
       "      <td>[Books, Education &amp; Teaching, Schools &amp; Teaching]</td>\n",
       "    </tr>\n",
       "    <tr>\n",
       "      <th>9</th>\n",
       "      <td>0000001589</td>\n",
       "      <td>LJ Classique Interchangeable Ladies Gift Set W...</td>\n",
       "      <td>None</td>\n",
       "      <td>None</td>\n",
       "      <td>None</td>\n",
       "      <td>None</td>\n",
       "      <td>None</td>\n",
       "      <td>None</td>\n",
       "      <td>4,368,310inBooks(</td>\n",
       "      <td>None</td>\n",
       "      <td>None</td>\n",
       "    </tr>\n",
       "  </tbody>\n",
       "</table>\n",
       "</div>"
      ],
      "text/plain": [
       "         asin                                              title feature  \\\n",
       "0  0000092878  Biology Gods Living Creation Third Edition 10 ...    None   \n",
       "1  000047715X  Mksap 16 Audio Companion: Medical Knowledge Se...    None   \n",
       "2  0000004545  Flex! Discography of North American Punk, Hard...    None   \n",
       "3  0000013765         Heavenly Highway Hymns: Shaped-Note Hymnal    None   \n",
       "4  0000000116  Georgina Goodman Nelson Womens Size 8.5 Purple...    None   \n",
       "5  0000555010  Principles of Analgesic Use in the Treatment o...    None   \n",
       "6  0000477141                           MKSAP 15 Audio Companion    None   \n",
       "7  0000230022  The Simple Truths of Service: Inspired by John...    None   \n",
       "8  0000038504  Double-Speak: From Revenue Enhancement to Term...    None   \n",
       "9  0000001589  LJ Classique Interchangeable Ladies Gift Set W...    None   \n",
       "\n",
       "                                         description    price image  \\\n",
       "0     [It is a biology book with God's perspective.]   $39.94  None   \n",
       "1                                               None     None  None   \n",
       "2  [Discography of American Punk, Hardcore, and P...  $199.99  None   \n",
       "3  [This is a collection of classic gospel hymns ...     None  None   \n",
       "4                                               None  $164.10  None   \n",
       "5                           [Brand new; never used.]     None  None   \n",
       "6  [Flash cards used with accompany MKSAP 15 audi...     None  None   \n",
       "7  [Simple Truths of Service: Inspired by Jonny t...     None  None   \n",
       "8  [This book will alert, amuse and appall you as...  $198.70  None   \n",
       "9                                               None     None  None   \n",
       "\n",
       "                                            also_buy  \\\n",
       "0  [0669009075, B000K2P5SA, B00MD4G2N0, B000ASIPT...   \n",
       "1                                               None   \n",
       "2                                               None   \n",
       "3                                               None   \n",
       "4                                               None   \n",
       "5                           [0323056962, 0123979285]   \n",
       "6                                               None   \n",
       "7  [1492630519, 0071819045, 0688123163, 160810640...   \n",
       "8                                               None   \n",
       "9                                               None   \n",
       "\n",
       "                                           also_view                rank  \\\n",
       "0  [0019777701, B000AUCX7I, B000K2P5SA, B001CK63X...   1,349,781inBooks(   \n",
       "1                           [B01MUCYEV7, B01KUGTY6O]   1,702,625inBooks(   \n",
       "2                                               None   6,291,012inBooks(   \n",
       "3  [0006180116, 0996092730, B000QFOGY0, B06WWKNDL...   2,384,057inBooks(   \n",
       "4                                               None  11,735,726inBooks(   \n",
       "5                           [0323056962, 0521879272]   2,906,939inBooks(   \n",
       "6                                               None   2,236,549inBooks(   \n",
       "7  [0692842004, 1492630519, 1978489552, 160810640...   2,566,783inBooks(   \n",
       "8               [0060171340, 0060161345, 0062734121]   2,505,873inBooks(   \n",
       "9                                               None   4,368,310inBooks(   \n",
       "\n",
       "                               brand  \\\n",
       "0                       Keith Graham   \n",
       "1                                Acp   \n",
       "2                   Burkhard Jarisch   \n",
       "3                      Stamps/Baxter   \n",
       "4                               None   \n",
       "5              American Pain Society   \n",
       "6                                ACP   \n",
       "7  Visit Amazon's Ken Blanchard Page   \n",
       "8                       William Lutz   \n",
       "9                               None   \n",
       "\n",
       "                                            category  \n",
       "0                                               None  \n",
       "1  [Books, New, Used & Rental Textbooks, Medicine...  \n",
       "2                 [Books, Arts & Photography, Music]  \n",
       "3                 [Books, Arts & Photography, Music]  \n",
       "4                                               None  \n",
       "5  [Books, New, Used & Rental Textbooks, Medicine...  \n",
       "6                   [Books, Medical Books, Medicine]  \n",
       "7  [Books, New, Used & Rental Textbooks, Business...  \n",
       "8  [Books, Education & Teaching, Schools & Teaching]  \n",
       "9                                               None  "
      ]
     },
     "execution_count": 119,
     "metadata": {},
     "output_type": "execute_result"
    }
   ],
   "source": [
    "metaDf.limit(10).toPandas()"
   ]
  },
  {
   "cell_type": "markdown",
   "metadata": {},
   "source": [
    "#### 2. review data\n",
    "\n",
    "| columns    | description |\n",
    "| :--------  | :---- |\n",
    "| reviewerID       | ID of the reviewer, e.g. A2SUAM1J3GNN3B | \n",
    "| asin      |  ID of the product, e.g. 0000013714 |\n",
    "| reviewerName    | name of the reviewer |\n",
    "| vote  | helpful votes of the review |\n",
    "| reviewText      | text of the review |\n",
    "| overall    | rating of the product |\n",
    "| summary  | summary of the review |\n",
    "| unixReviewTime      | time of the review (unix time) |\n",
    "| reviewTime | time of the review (raw) |\n",
    "| image | images that users post after they have received the product |"
   ]
  },
  {
   "cell_type": "code",
   "execution_count": 120,
   "metadata": {},
   "outputs": [],
   "source": [
    "reviewSchema = T.StructType([\n",
    "    T.StructField('reviewerID', T.StringType()),    \n",
    "    T.StructField('asin', T.StringType()),\n",
    "    T.StructField('reviewerName', T.StringType()),    \n",
    "    T.StructField('vote', T.StringType()),    \n",
    "    T.StructField('reviewText', T.StringType()),    \n",
    "    T.StructField('overall', T.FloatType()),\n",
    "    T.StructField('summary', T.StringType()),\n",
    "    T.StructField('unixReviewTime', T.LongType()),\n",
    "    T.StructField('reviewTime', T.StringType()),    \n",
    "    T.StructField('image', T.ArrayType(T.StringType()))])\n",
    "\n",
    "reviewDf = (\n",
    "    spark.read\n",
    "    .schema(reviewSchema)\n",
    "    .json(\"s3a://udacity-capstone-craftsangjae/Books.json.gz\"))"
   ]
  },
  {
   "cell_type": "code",
   "execution_count": 121,
   "metadata": {},
   "outputs": [
    {
     "data": {
      "text/html": [
       "<div>\n",
       "<style scoped>\n",
       "    .dataframe tbody tr th:only-of-type {\n",
       "        vertical-align: middle;\n",
       "    }\n",
       "\n",
       "    .dataframe tbody tr th {\n",
       "        vertical-align: top;\n",
       "    }\n",
       "\n",
       "    .dataframe thead th {\n",
       "        text-align: right;\n",
       "    }\n",
       "</style>\n",
       "<table border=\"1\" class=\"dataframe\">\n",
       "  <thead>\n",
       "    <tr style=\"text-align: right;\">\n",
       "      <th></th>\n",
       "      <th>reviewerID</th>\n",
       "      <th>asin</th>\n",
       "      <th>reviewerName</th>\n",
       "      <th>vote</th>\n",
       "      <th>reviewText</th>\n",
       "      <th>overall</th>\n",
       "      <th>summary</th>\n",
       "      <th>unixReviewTime</th>\n",
       "      <th>reviewTime</th>\n",
       "      <th>image</th>\n",
       "    </tr>\n",
       "  </thead>\n",
       "  <tbody>\n",
       "    <tr>\n",
       "      <th>0</th>\n",
       "      <td>A1C6M8LCIX4M6M</td>\n",
       "      <td>0001713353</td>\n",
       "      <td>June Bug</td>\n",
       "      <td>None</td>\n",
       "      <td>This book is a winner with both of my boys.  T...</td>\n",
       "      <td>5.0</td>\n",
       "      <td>Children's favorite</td>\n",
       "      <td>1123804800</td>\n",
       "      <td>08 12, 2005</td>\n",
       "      <td>None</td>\n",
       "    </tr>\n",
       "    <tr>\n",
       "      <th>1</th>\n",
       "      <td>A1REUF3A1YCPHM</td>\n",
       "      <td>0001713353</td>\n",
       "      <td>TW Ervin II</td>\n",
       "      <td>None</td>\n",
       "      <td>The King, the Mice and the Cheese by Nancy Gur...</td>\n",
       "      <td>5.0</td>\n",
       "      <td>A story children will love and learn from</td>\n",
       "      <td>1112140800</td>\n",
       "      <td>03 30, 2005</td>\n",
       "      <td>None</td>\n",
       "    </tr>\n",
       "    <tr>\n",
       "      <th>2</th>\n",
       "      <td>A1YRBRK2XM5D5</td>\n",
       "      <td>0001713353</td>\n",
       "      <td>Rebecca L. Menner</td>\n",
       "      <td>5</td>\n",
       "      <td>My daughter got her first copy from her great-...</td>\n",
       "      <td>5.0</td>\n",
       "      <td>Third copy</td>\n",
       "      <td>1081036800</td>\n",
       "      <td>04 4, 2004</td>\n",
       "      <td>None</td>\n",
       "    </tr>\n",
       "    <tr>\n",
       "      <th>3</th>\n",
       "      <td>A1V8ZR5P78P4ZU</td>\n",
       "      <td>0001713353</td>\n",
       "      <td>Mindy Stone</td>\n",
       "      <td>None</td>\n",
       "      <td>I remember this book from when I was a child a...</td>\n",
       "      <td>5.0</td>\n",
       "      <td>Graphically Wonderful!</td>\n",
       "      <td>1077321600</td>\n",
       "      <td>02 21, 2004</td>\n",
       "      <td>None</td>\n",
       "    </tr>\n",
       "    <tr>\n",
       "      <th>4</th>\n",
       "      <td>A2ZB06582NXCIV</td>\n",
       "      <td>0001713353</td>\n",
       "      <td>B. Deniger</td>\n",
       "      <td>None</td>\n",
       "      <td>Just as I remembered it, one of my favorites f...</td>\n",
       "      <td>5.0</td>\n",
       "      <td>Great condition, very happy to have this to sh...</td>\n",
       "      <td>1475452800</td>\n",
       "      <td>10 3, 2016</td>\n",
       "      <td>None</td>\n",
       "    </tr>\n",
       "    <tr>\n",
       "      <th>5</th>\n",
       "      <td>ACPQVNRD3Z09X</td>\n",
       "      <td>0001713353</td>\n",
       "      <td>Terri Dickson</td>\n",
       "      <td>None</td>\n",
       "      <td>It is a very cute book with great illustration...</td>\n",
       "      <td>5.0</td>\n",
       "      <td>Five Stars</td>\n",
       "      <td>1469750400</td>\n",
       "      <td>07 29, 2016</td>\n",
       "      <td>None</td>\n",
       "    </tr>\n",
       "    <tr>\n",
       "      <th>6</th>\n",
       "      <td>AVP0HXC9FG790</td>\n",
       "      <td>0001713353</td>\n",
       "      <td>Amazon Customer</td>\n",
       "      <td>None</td>\n",
       "      <td>The kids loved it!</td>\n",
       "      <td>5.0</td>\n",
       "      <td>Five Stars</td>\n",
       "      <td>1466380800</td>\n",
       "      <td>06 20, 2016</td>\n",
       "      <td>None</td>\n",
       "    </tr>\n",
       "    <tr>\n",
       "      <th>7</th>\n",
       "      <td>A32MQTLQQN44WW</td>\n",
       "      <td>0001713353</td>\n",
       "      <td>jackie hogan</td>\n",
       "      <td>None</td>\n",
       "      <td>I was just so hapoy to have found it, thank yo...</td>\n",
       "      <td>5.0</td>\n",
       "      <td>Got a special part of my childhood back aand a...</td>\n",
       "      <td>1461456000</td>\n",
       "      <td>04 24, 2016</td>\n",
       "      <td>None</td>\n",
       "    </tr>\n",
       "    <tr>\n",
       "      <th>8</th>\n",
       "      <td>A13CHIJPFCEP2M</td>\n",
       "      <td>0001713353</td>\n",
       "      <td>Janice Cunningham</td>\n",
       "      <td>None</td>\n",
       "      <td>good comdition</td>\n",
       "      <td>5.0</td>\n",
       "      <td>Five Stars</td>\n",
       "      <td>1455408000</td>\n",
       "      <td>02 14, 2016</td>\n",
       "      <td>None</td>\n",
       "    </tr>\n",
       "    <tr>\n",
       "      <th>9</th>\n",
       "      <td>A324TTUBKTN73A</td>\n",
       "      <td>0001713353</td>\n",
       "      <td>Tekla Borner</td>\n",
       "      <td>None</td>\n",
       "      <td>My students (3 &amp; 4 year olds) loved this book!...</td>\n",
       "      <td>5.0</td>\n",
       "      <td>Five Stars</td>\n",
       "      <td>1453593600</td>\n",
       "      <td>01 24, 2016</td>\n",
       "      <td>None</td>\n",
       "    </tr>\n",
       "  </tbody>\n",
       "</table>\n",
       "</div>"
      ],
      "text/plain": [
       "       reviewerID        asin       reviewerName  vote  \\\n",
       "0  A1C6M8LCIX4M6M  0001713353           June Bug  None   \n",
       "1  A1REUF3A1YCPHM  0001713353        TW Ervin II  None   \n",
       "2   A1YRBRK2XM5D5  0001713353  Rebecca L. Menner     5   \n",
       "3  A1V8ZR5P78P4ZU  0001713353        Mindy Stone  None   \n",
       "4  A2ZB06582NXCIV  0001713353         B. Deniger  None   \n",
       "5   ACPQVNRD3Z09X  0001713353      Terri Dickson  None   \n",
       "6   AVP0HXC9FG790  0001713353    Amazon Customer  None   \n",
       "7  A32MQTLQQN44WW  0001713353       jackie hogan  None   \n",
       "8  A13CHIJPFCEP2M  0001713353  Janice Cunningham  None   \n",
       "9  A324TTUBKTN73A  0001713353       Tekla Borner  None   \n",
       "\n",
       "                                          reviewText  overall  \\\n",
       "0  This book is a winner with both of my boys.  T...      5.0   \n",
       "1  The King, the Mice and the Cheese by Nancy Gur...      5.0   \n",
       "2  My daughter got her first copy from her great-...      5.0   \n",
       "3  I remember this book from when I was a child a...      5.0   \n",
       "4  Just as I remembered it, one of my favorites f...      5.0   \n",
       "5  It is a very cute book with great illustration...      5.0   \n",
       "6                                 The kids loved it!      5.0   \n",
       "7  I was just so hapoy to have found it, thank yo...      5.0   \n",
       "8                                     good comdition      5.0   \n",
       "9  My students (3 & 4 year olds) loved this book!...      5.0   \n",
       "\n",
       "                                             summary  unixReviewTime  \\\n",
       "0                                Children's favorite      1123804800   \n",
       "1          A story children will love and learn from      1112140800   \n",
       "2                                         Third copy      1081036800   \n",
       "3                             Graphically Wonderful!      1077321600   \n",
       "4  Great condition, very happy to have this to sh...      1475452800   \n",
       "5                                         Five Stars      1469750400   \n",
       "6                                         Five Stars      1466380800   \n",
       "7  Got a special part of my childhood back aand a...      1461456000   \n",
       "8                                         Five Stars      1455408000   \n",
       "9                                         Five Stars      1453593600   \n",
       "\n",
       "    reviewTime image  \n",
       "0  08 12, 2005  None  \n",
       "1  03 30, 2005  None  \n",
       "2   04 4, 2004  None  \n",
       "3  02 21, 2004  None  \n",
       "4   10 3, 2016  None  \n",
       "5  07 29, 2016  None  \n",
       "6  06 20, 2016  None  \n",
       "7  04 24, 2016  None  \n",
       "8  02 14, 2016  None  \n",
       "9  01 24, 2016  None  "
      ]
     },
     "execution_count": 121,
     "metadata": {},
     "output_type": "execute_result"
    }
   ],
   "source": [
    "reviewDf.limit(10).toPandas()"
   ]
  },
  {
   "cell_type": "markdown",
   "metadata": {},
   "source": [
    "## Step 2: Explore and Assess the Data\n",
    "\n",
    "* Explore the data to identify data quality issues, like missing values, duplicate data, etc.\n",
    "* Document steps necessary to clean the data"
   ]
  },
  {
   "cell_type": "markdown",
   "metadata": {},
   "source": [
    "### Check the number of rows  given data"
   ]
  },
  {
   "cell_type": "markdown",
   "metadata": {},
   "source": [
    "####  - meta data"
   ]
  },
  {
   "cell_type": "code",
   "execution_count": 25,
   "metadata": {},
   "outputs": [],
   "source": [
    "meta_data_size = metaDf.count()"
   ]
  },
  {
   "cell_type": "code",
   "execution_count": 28,
   "metadata": {},
   "outputs": [
    {
     "name": "stdout",
     "output_type": "stream",
     "text": [
      "metaDf's rows : 2,935,525\n"
     ]
    }
   ],
   "source": [
    "print(f\"metaDf's rows : {meta_data_size:,}\")"
   ]
  },
  {
   "cell_type": "markdown",
   "metadata": {},
   "source": [
    "#### - review data"
   ]
  },
  {
   "cell_type": "code",
   "execution_count": 29,
   "metadata": {},
   "outputs": [],
   "source": [
    "review_size = reviewDf.count()"
   ]
  },
  {
   "cell_type": "code",
   "execution_count": 30,
   "metadata": {},
   "outputs": [
    {
     "name": "stdout",
     "output_type": "stream",
     "text": [
      "reviewDf's rows : 51,311,621\n"
     ]
    }
   ],
   "source": [
    "print(f\"reviewDf's rows : {review_size:,}\")"
   ]
  },
  {
   "cell_type": "markdown",
   "metadata": {},
   "source": [
    "### Check null existence"
   ]
  },
  {
   "cell_type": "code",
   "execution_count": 31,
   "metadata": {},
   "outputs": [],
   "source": [
    "from pyspark.sql import functions as F"
   ]
  },
  {
   "cell_type": "code",
   "execution_count": 34,
   "metadata": {},
   "outputs": [],
   "source": [
    "def countNullValues(df):\n",
    "    return (\n",
    "        df\n",
    "        .select(\n",
    "            [F.count(F.when(F.isnull(c), c))\n",
    "             .alias(c) for c in df.columns])\n",
    "        .toPandas()\n",
    "    )"
   ]
  },
  {
   "cell_type": "markdown",
   "metadata": {},
   "source": [
    "#### - Metadata"
   ]
  },
  {
   "cell_type": "code",
   "execution_count": 35,
   "metadata": {},
   "outputs": [
    {
     "data": {
      "text/html": [
       "<div>\n",
       "<style scoped>\n",
       "    .dataframe tbody tr th:only-of-type {\n",
       "        vertical-align: middle;\n",
       "    }\n",
       "\n",
       "    .dataframe tbody tr th {\n",
       "        vertical-align: top;\n",
       "    }\n",
       "\n",
       "    .dataframe thead th {\n",
       "        text-align: right;\n",
       "    }\n",
       "</style>\n",
       "<table border=\"1\" class=\"dataframe\">\n",
       "  <thead>\n",
       "    <tr style=\"text-align: right;\">\n",
       "      <th></th>\n",
       "      <th>asin</th>\n",
       "      <th>title</th>\n",
       "      <th>feature</th>\n",
       "      <th>description</th>\n",
       "      <th>price</th>\n",
       "      <th>image</th>\n",
       "      <th>also_buy</th>\n",
       "      <th>also_view</th>\n",
       "      <th>rank</th>\n",
       "      <th>brand</th>\n",
       "      <th>category</th>\n",
       "    </tr>\n",
       "  </thead>\n",
       "  <tbody>\n",
       "    <tr>\n",
       "      <th>0</th>\n",
       "      <td>0</td>\n",
       "      <td>828</td>\n",
       "      <td>2933983</td>\n",
       "      <td>551164</td>\n",
       "      <td>1058084</td>\n",
       "      <td>2933938</td>\n",
       "      <td>1590876</td>\n",
       "      <td>1730233</td>\n",
       "      <td>24256</td>\n",
       "      <td>101021</td>\n",
       "      <td>389619</td>\n",
       "    </tr>\n",
       "  </tbody>\n",
       "</table>\n",
       "</div>"
      ],
      "text/plain": [
       "   asin  title  feature  description    price    image  also_buy  also_view  \\\n",
       "0     0    828  2933983       551164  1058084  2933938   1590876    1730233   \n",
       "\n",
       "    rank   brand  category  \n",
       "0  24256  101021    389619  "
      ]
     },
     "execution_count": 35,
     "metadata": {},
     "output_type": "execute_result"
    }
   ],
   "source": [
    "null_in_meta = countNullValues(metaDf)\n",
    "null_in_meta"
   ]
  },
  {
   "cell_type": "code",
   "execution_count": 37,
   "metadata": {},
   "outputs": [
    {
     "data": {
      "text/html": [
       "<div>\n",
       "<style scoped>\n",
       "    .dataframe tbody tr th:only-of-type {\n",
       "        vertical-align: middle;\n",
       "    }\n",
       "\n",
       "    .dataframe tbody tr th {\n",
       "        vertical-align: top;\n",
       "    }\n",
       "\n",
       "    .dataframe thead th {\n",
       "        text-align: right;\n",
       "    }\n",
       "</style>\n",
       "<table border=\"1\" class=\"dataframe\">\n",
       "  <thead>\n",
       "    <tr style=\"text-align: right;\">\n",
       "      <th></th>\n",
       "      <th>asin</th>\n",
       "      <th>title</th>\n",
       "      <th>feature</th>\n",
       "      <th>description</th>\n",
       "      <th>price</th>\n",
       "      <th>image</th>\n",
       "      <th>also_buy</th>\n",
       "      <th>also_view</th>\n",
       "      <th>rank</th>\n",
       "      <th>brand</th>\n",
       "      <th>category</th>\n",
       "    </tr>\n",
       "  </thead>\n",
       "  <tbody>\n",
       "    <tr>\n",
       "      <th>0</th>\n",
       "      <td>0.0</td>\n",
       "      <td>0.000282</td>\n",
       "      <td>0.999475</td>\n",
       "      <td>0.187757</td>\n",
       "      <td>0.360441</td>\n",
       "      <td>0.999459</td>\n",
       "      <td>0.541939</td>\n",
       "      <td>0.589412</td>\n",
       "      <td>0.008263</td>\n",
       "      <td>0.034413</td>\n",
       "      <td>0.132725</td>\n",
       "    </tr>\n",
       "  </tbody>\n",
       "</table>\n",
       "</div>"
      ],
      "text/plain": [
       "   asin     title   feature  description     price     image  also_buy  \\\n",
       "0   0.0  0.000282  0.999475     0.187757  0.360441  0.999459  0.541939   \n",
       "\n",
       "   also_view      rank     brand  category  \n",
       "0   0.589412  0.008263  0.034413  0.132725  "
      ]
     },
     "execution_count": 37,
     "metadata": {},
     "output_type": "execute_result"
    }
   ],
   "source": [
    "# percentage\n",
    "null_in_meta / meta_data_size"
   ]
  },
  {
   "cell_type": "markdown",
   "metadata": {},
   "source": [
    "#### - Review Data"
   ]
  },
  {
   "cell_type": "code",
   "execution_count": 38,
   "metadata": {},
   "outputs": [
    {
     "data": {
      "text/html": [
       "<div>\n",
       "<style scoped>\n",
       "    .dataframe tbody tr th:only-of-type {\n",
       "        vertical-align: middle;\n",
       "    }\n",
       "\n",
       "    .dataframe tbody tr th {\n",
       "        vertical-align: top;\n",
       "    }\n",
       "\n",
       "    .dataframe thead th {\n",
       "        text-align: right;\n",
       "    }\n",
       "</style>\n",
       "<table border=\"1\" class=\"dataframe\">\n",
       "  <thead>\n",
       "    <tr style=\"text-align: right;\">\n",
       "      <th></th>\n",
       "      <th>reviewerID</th>\n",
       "      <th>asin</th>\n",
       "      <th>reviewerName</th>\n",
       "      <th>vote</th>\n",
       "      <th>reviewerText</th>\n",
       "      <th>overall</th>\n",
       "      <th>summary</th>\n",
       "      <th>unixReviewTime</th>\n",
       "      <th>reviewTime</th>\n",
       "      <th>image</th>\n",
       "    </tr>\n",
       "  </thead>\n",
       "  <tbody>\n",
       "    <tr>\n",
       "      <th>0</th>\n",
       "      <td>10457215</td>\n",
       "      <td>10457215</td>\n",
       "      <td>10458745</td>\n",
       "      <td>51311621</td>\n",
       "      <td>51311621</td>\n",
       "      <td>10457215</td>\n",
       "      <td>10470166</td>\n",
       "      <td>10457215</td>\n",
       "      <td>10457215</td>\n",
       "      <td>51206718</td>\n",
       "    </tr>\n",
       "  </tbody>\n",
       "</table>\n",
       "</div>"
      ],
      "text/plain": [
       "   reviewerID      asin  reviewerName      vote  reviewerText   overall  \\\n",
       "0    10457215  10457215      10458745  51311621      51311621  10457215   \n",
       "\n",
       "    summary  unixReviewTime  reviewTime     image  \n",
       "0  10470166        10457215    10457215  51206718  "
      ]
     },
     "execution_count": 38,
     "metadata": {},
     "output_type": "execute_result"
    }
   ],
   "source": [
    "null_in_review = countNullValues(reviewDf)\n",
    "null_in_review"
   ]
  },
  {
   "cell_type": "code",
   "execution_count": 39,
   "metadata": {},
   "outputs": [
    {
     "data": {
      "text/html": [
       "<div>\n",
       "<style scoped>\n",
       "    .dataframe tbody tr th:only-of-type {\n",
       "        vertical-align: middle;\n",
       "    }\n",
       "\n",
       "    .dataframe tbody tr th {\n",
       "        vertical-align: top;\n",
       "    }\n",
       "\n",
       "    .dataframe thead th {\n",
       "        text-align: right;\n",
       "    }\n",
       "</style>\n",
       "<table border=\"1\" class=\"dataframe\">\n",
       "  <thead>\n",
       "    <tr style=\"text-align: right;\">\n",
       "      <th></th>\n",
       "      <th>reviewerID</th>\n",
       "      <th>asin</th>\n",
       "      <th>reviewerName</th>\n",
       "      <th>vote</th>\n",
       "      <th>reviewerText</th>\n",
       "      <th>overall</th>\n",
       "      <th>summary</th>\n",
       "      <th>unixReviewTime</th>\n",
       "      <th>reviewTime</th>\n",
       "      <th>image</th>\n",
       "    </tr>\n",
       "  </thead>\n",
       "  <tbody>\n",
       "    <tr>\n",
       "      <th>0</th>\n",
       "      <td>0.203798</td>\n",
       "      <td>0.203798</td>\n",
       "      <td>0.203828</td>\n",
       "      <td>1.0</td>\n",
       "      <td>1.0</td>\n",
       "      <td>0.203798</td>\n",
       "      <td>0.204051</td>\n",
       "      <td>0.203798</td>\n",
       "      <td>0.203798</td>\n",
       "      <td>0.997956</td>\n",
       "    </tr>\n",
       "  </tbody>\n",
       "</table>\n",
       "</div>"
      ],
      "text/plain": [
       "   reviewerID      asin  reviewerName  vote  reviewerText   overall   summary  \\\n",
       "0    0.203798  0.203798      0.203828   1.0           1.0  0.203798  0.204051   \n",
       "\n",
       "   unixReviewTime  reviewTime     image  \n",
       "0        0.203798    0.203798  0.997956  "
      ]
     },
     "execution_count": 39,
     "metadata": {},
     "output_type": "execute_result"
    }
   ],
   "source": [
    "# percentage\n",
    "null_in_review / review_size"
   ]
  },
  {
   "cell_type": "markdown",
   "metadata": {},
   "source": [
    "### Check Duplicates existence"
   ]
  },
  {
   "cell_type": "code",
   "execution_count": 44,
   "metadata": {},
   "outputs": [
    {
     "data": {
      "text/plain": [
       "False"
      ]
     },
     "execution_count": 44,
     "metadata": {},
     "output_type": "execute_result"
    }
   ],
   "source": [
    "# metaDF\n",
    "meta_data_size == (\n",
    "    metaDf\n",
    "    .dropDuplicates(['asin'])\n",
    "    .count()\n",
    ")"
   ]
  },
  {
   "cell_type": "code",
   "execution_count": 45,
   "metadata": {},
   "outputs": [
    {
     "data": {
      "text/plain": [
       "False"
      ]
     },
     "execution_count": 45,
     "metadata": {},
     "output_type": "execute_result"
    }
   ],
   "source": [
    "# reviewDf\n",
    "review_size == (\n",
    "    reviewDf\n",
    "    .dropDuplicates(\n",
    "        [reviewDf.reviewerID, reviewDf.asin, reviewDf.unixReviewTime])\n",
    "    .count()\n",
    ")"
   ]
  },
  {
   "cell_type": "markdown",
   "metadata": {},
   "source": [
    "### Cleansing Steps\n",
    "\n",
    "* eliminate duplicated and null values in the ID(asin, reviewerID)\n",
    "* add ID Column in reviewDf\n",
    "* cache cleansed dataframes in parquet format."
   ]
  },
  {
   "cell_type": "code",
   "execution_count": 132,
   "metadata": {},
   "outputs": [],
   "source": [
    "os.makedirs(\"../data\",exist_ok=True)\n",
    "(\n",
    "    metaDf\n",
    "    .filter(metaDf.asin.isNotNull())\n",
    "    .dropDuplicates(['asin'])\n",
    "    .write\n",
    "    .parquet(os.path.join(\"../data\", \"meta.parquet\"), 'overwrite')\n",
    ")\n",
    "\n",
    "(\n",
    "    reviewDf\n",
    "    .filter(reviewDf.asin.isNotNull())\n",
    "    .filter(reviewDf.reviewerID.isNotNull())\n",
    "    .dropDuplicates([\"reviewerID\", \"asin\", \"unixReviewTime\"])\n",
    "    .withColumn('ID', F.monotonically_increasing_id())\n",
    "    .write    \n",
    "    .parquet(os.path.join(\"../data\", \"review.parquet\"), 'overwrite')\n",
    ")"
   ]
  },
  {
   "cell_type": "markdown",
   "metadata": {},
   "source": [
    "### Load Cached Data"
   ]
  },
  {
   "cell_type": "code",
   "execution_count": 195,
   "metadata": {},
   "outputs": [],
   "source": [
    "metaDf = (\n",
    "    spark.read\n",
    "    .schema(metaSchema)\n",
    "    .parquet(\"../data/meta.parquet\")\n",
    ")\n",
    "\n",
    "reviewSchema = T.StructType([\n",
    "    T.StructField('ID', T.LongType()),\n",
    "    T.StructField('reviewerID', T.StringType()),    \n",
    "    T.StructField('asin', T.StringType()),\n",
    "    T.StructField('reviewerName', T.StringType()),    \n",
    "    T.StructField('vote', T.StringType()),    \n",
    "    T.StructField('reviewText', T.StringType()),    \n",
    "    T.StructField('overall', T.FloatType()),\n",
    "    T.StructField('summary', T.StringType()),\n",
    "    T.StructField('unixReviewTime', T.LongType()),\n",
    "    T.StructField('reviewTime', T.StringType()),    \n",
    "    T.StructField('image', T.ArrayType(T.StringType()))])\n",
    "\n",
    "reviewDf = (\n",
    "    spark.read\n",
    "    .schema(reviewSchema)\n",
    "    .parquet(\"../data/review.parquet\")\n",
    ")"
   ]
  },
  {
   "cell_type": "code",
   "execution_count": 197,
   "metadata": {},
   "outputs": [
    {
     "name": "stdout",
     "output_type": "stream",
     "text": [
      "the num of meta data cleansed : 2,930,600\n",
      "the num of review data cleansed : 51,161,643\n"
     ]
    }
   ],
   "source": [
    "cleansed_meta_size = metaDf.count()\n",
    "cleansed_review_size = reviewDf.count()\n",
    "\n",
    "print(\n",
    "    f\"the num of meta data cleansed : {cleansed_meta_size:,}\")\n",
    "print(\n",
    "    f\"the num of review data cleansed : {cleansed_review_size:,}\")"
   ]
  },
  {
   "cell_type": "markdown",
   "metadata": {},
   "source": [
    "## Step 3: Define the Data Model"
   ]
  },
  {
   "cell_type": "markdown",
   "metadata": {},
   "source": [
    "### 3.1 Conceptual Data Model\n",
    "\n",
    "![](https://imgur.com/ivCE1lk.png)\n"
   ]
  },
  {
   "cell_type": "markdown",
   "metadata": {},
   "source": [
    "We constructed a conceptual data model as above through two datasets. In the above structure, which takes the form of Star Schema, the reviewlog containing the rating data evaluated by the customer is located at the center of the fact table, and the user, product, review text, and time information are arranged in the dimension table. Through the above structure, you can quickly find out which products have received the highest ratings from customers. It can be easily expanded to implement a recommendation algorithm such as collaborative filtering through a fact table."
   ]
  },
  {
   "cell_type": "markdown",
   "metadata": {},
   "source": [
    "### 3.2 Mapping Out Data Pipelines\n",
    "List the steps necessary to pipeline the data into the chosen data model\n",
    "\n",
    "1. converts price and vote information in string type into float & int type.\n",
    "2. split unixtime data to year, month, day, hour and minute data.\n",
    "3. Split into dimension table and fact table"
   ]
  },
  {
   "cell_type": "markdown",
   "metadata": {},
   "source": [
    "## Step 4: Run Pipelines to Model the Data "
   ]
  },
  {
   "cell_type": "markdown",
   "metadata": {},
   "source": [
    "### 4.1 Create the data model\n",
    "Build the data pipelines to create the data model."
   ]
  },
  {
   "cell_type": "markdown",
   "metadata": {},
   "source": [
    "#### CREATE DATABASES"
   ]
  },
  {
   "cell_type": "code",
   "execution_count": 150,
   "metadata": {},
   "outputs": [],
   "source": [
    "conn = psycopg2.connect(\"host=postgres user=postgres password=postgres\")\n",
    "conn.set_session(autocommit=True)\n",
    "\n",
    "cur = conn.cursor()\n",
    "cur.execute('DROP DATABASE IF EXISTS amazonreview;')\n",
    "cur.execute('CREATE DATABASE amazonreview;')\n",
    "\n",
    "conn.close()\n",
    "cur.close()"
   ]
  },
  {
   "cell_type": "markdown",
   "metadata": {},
   "source": [
    "#### CREATE TABLES\n",
    "\n",
    "* Each primary key exists in every dimension table\n",
    "* Add `not null` constraint to fact table"
   ]
  },
  {
   "cell_type": "code",
   "execution_count": 156,
   "metadata": {},
   "outputs": [],
   "source": [
    "product_table_create = '''\n",
    "CREATE TABLE IF NOT EXISTS product (\n",
    "    productID varchar(12) PRIMARY KEY,\n",
    "    title text,\n",
    "    feature text [],\n",
    "    description text [],\n",
    "    price float,\n",
    "    image text [],\n",
    "    also_buy text [],\n",
    "    also_view text [],\n",
    "    rank text,\n",
    "    brand text,\n",
    "    category text []\n",
    ");\n",
    "'''\n",
    "\n",
    "time_table_create = '''\n",
    "CREATE TABLE IF NOT EXISTS time (\n",
    "    unixTime bigint PRIMARY KEY,\n",
    "    year int,\n",
    "    month int,\n",
    "    day int,\n",
    "    hour int,\n",
    "    minute int\n",
    ");\n",
    "'''\n",
    "\n",
    "reviewuser_table_create = '''\n",
    "CREATE TABLE IF NOT EXISTS reviewuser (\n",
    "    userID varchar(20) PRIMARY KEY,\n",
    "    userName text\n",
    "    );\n",
    "'''\n",
    "\n",
    "review_table_create = '''\n",
    "CREATE TABLE IF NOT EXISTS review (\n",
    "    reviewID bigint PRIMARY KEY,\n",
    "    reviewText text,\n",
    "    summary text,\n",
    "    image text []\n",
    ");\n",
    "'''\n",
    "\n",
    "reviewlog_table_create = '''\n",
    "CREATE TABLE IF NOT EXISTS reviewlog (\n",
    "    reviewID bigint NOT NULL,\n",
    "    userID varchar(20) NOT NULL,\n",
    "    productID varchar(12) NOT NULL,\n",
    "    vote INT,\n",
    "    overall FLOAT,\n",
    "    unixTime bigint NOT NULL\n",
    ");\n",
    "'''\n",
    "\n",
    "create_table_queries = [\n",
    "    product_table_create,\n",
    "    time_table_create,\n",
    "    reviewuser_table_create,\n",
    "    review_table_create,\n",
    "    reviewlog_table_create\n",
    "]"
   ]
  },
  {
   "cell_type": "code",
   "execution_count": 158,
   "metadata": {},
   "outputs": [],
   "source": [
    "with psycopg2.connect(\"host=postgres dbname=amazonreview user=postgres password=postgres\") as conn:\n",
    "    cur = conn.cursor()\n",
    "    for query in create_table_queries:\n",
    "        cur.execute(query)"
   ]
  },
  {
   "cell_type": "markdown",
   "metadata": {},
   "source": [
    "### Load data into a table"
   ]
  },
  {
   "cell_type": "code",
   "execution_count": 160,
   "metadata": {},
   "outputs": [],
   "source": [
    "url = \"jdbc:postgresql://postgres/amazonreview\"\n",
    "\n",
    "db_configs = {\n",
    "    \"user\": \"postgres\",\n",
    "    \"password\": \"postgres\",\n",
    "    \"driver\": \"org.postgresql.Driver\"\n",
    "}"
   ]
  },
  {
   "cell_type": "markdown",
   "metadata": {},
   "source": [
    "#### (1)  product Dimension Table "
   ]
  },
  {
   "cell_type": "code",
   "execution_count": 229,
   "metadata": {},
   "outputs": [],
   "source": [
    "table_name = 'product'\n",
    "\n",
    "price2float = F.udf(\n",
    "    lambda x : float(x[1:].replace(',',\"\")) \n",
    "    if x != None else -1., T.FloatType())\n",
    "\n",
    "(\n",
    "    metaDf\n",
    "    .withColumnRenamed(\"asin\", \"productID\")\n",
    "    .withColumn(\"price\", price2float('price'))\n",
    "    .select(['productID', 'title', 'feature', \n",
    "             'description', 'price', 'image', \n",
    "             'also_buy', 'also_view', 'rank', \n",
    "             'brand', 'category'])\n",
    "    .write\n",
    "    .jdbc(url=url, table=table_name, \n",
    "          properties=db_configs, mode='append')\n",
    ")"
   ]
  },
  {
   "cell_type": "code",
   "execution_count": 230,
   "metadata": {},
   "outputs": [
    {
     "name": "stdout",
     "output_type": "stream",
     "text": [
      "[('0544108620', \"Beauty's Daughter: The Story of Hermione and Helen of Troy\", None, ['Meyers latest historical novel delves into Greek mythology with a retelling of the Trojan War from the point of view of Hermione, the daughter of Helen and Menelaus of Sparta. Hermione lives in the shadow of her vainglorious mother, whose beauty bewitches all men. Though her mother is often critical or neglectful, Hermione is hurt when Helen runs away with Paris, abandoning her and her father but taking her brother. Menelaus and the Greek army follow in the lovers wake, with Hermione as a stowaway. As the war wages, Hermione grows into a woman with her own romantic and political prospects, including an arranged marriage to a hated man. The dry litany of Greek figures and myths that Hermione recites throughout the story may provide context, but they overshadow the scant details she offers about her own life. Still, the sheer scope and brutality of the war and the complications caused by the gods meddling are absorbing; if anything, this account should whet readers interest in additional source material. Grades 8-11. --Krista Hutley', '', '\"Beauty\\'s Daughter burrows into the recent interest in Greek mythology and builds a fictional account of the young womans quest to find her lost love.\"VOYA \"This title would make a great pairing for students studying Greek mythology or reading the Iliad or Odyssey and will appeal particularly to students interested in ancient history.\"SLJ \"For readers intimidated by the language of the Iliad, this makes a fine companion piece, highlighting the soap opera of relationships among the key players and the interventions of the gods into their daily affairs.\"Bulletin \"This account should whet readers\\' interest in additional source material.\"BooklistPraise for Carolyn Meyer\\'s Young Royals books: \"High drama . . . irresistible.\"Booklist \"Riveting.\"Publishers Weekly \"Masterful.\"VOYA \"Captivating.\"SLJ', '', '', ''], 15.289999961853, None, ['1416987274', '0152055886', '0152063765', '0152061886', '0152054472', '1416987290', '1481403265', '0152045562', '0152062211', '0316556343', '0152050868'], ['054402219X', '1481403273', '1416987282', '1416987304', '0547482493', '0152165444', '0152066209', '147679474X', '0152055940', '0439129087', '0152058516', '0152045562', '0152164561', '1620916525'], '2,256,997inBooks(', \"Visit Amazon's Carolyn Meyer Page\", ['Books', 'Teen & Young Adult', 'Literature & Fiction']), ('0544148924', 'Real Cowboys', None, ['PreS-Gr 3Hoefler takes readers into the daily lives of cowboys. Almost every page turn reveals a different personality trait or behavior, from being \"quiet in the morning, careful not to wake the peoplein the hollow\" to being \"strong, and tough, and homesick at the same time.\" Her portrayal shows skilled and sensitive caretakers who sing to calm the cattle or help them sleep. Always alert to danger and environmental cues, they communicate with other cowhands and their dogs to try to keep their herds safe and to prevent stampedes. When they lose an animal, \"real cowboys cry.\" Bean employs stylized, hand-stenciled shapes in muted, digitally composed scenes. Various shades of brown, depicting the cattle, soil, and other elements, are worked (along with white) into a controlled palette of turquoise, mustard yellow, and orange-red; these colors appear individually or in combination. The moods range from tensewhen a dust storm pelts the fleeing animalsto cheerful, when, in a red-and-white Escher-like cattle crossing, an aspiring cowboy waves from the backseat of a car. The language is lyrical, with one or two sentences per page describing the patience and consideration exhibited by these professionals, who \"are as many different colors as the earth\" and \"are girls, too.\" VERDICT This subtle, expressionistic view may not hold the attention of children who prefer realistic art or constant action, but it provides a fresh, multidimensional glimpse at those who make their home on the range.Wendy Lukehart, District of Columbia Public Library', 'School Library Journal’s Fuse#8 Best of 2016 * \"...a fresh, multidimensional glimpse at those who make their home on the range.\"—School Library Journal, STARRED review * \"[Real Cowboys] may well persuade readers to trade their ninja outfits for chaps, bandanas, and 10-gallon hats.\"—Publishers Weekly, STARRED review \"...a lovely, quiet book about the personality traits that come in handy when the going gets tough.\"—Booklist \"An eloquent response to anyone with a simplistic picture of the cowboy as a rough, tough working man and nothing else.\" —Kirkus \"Young cowpokes will appreciate the seriousness given to their passion...\"—Horn Book \"The illustrations are vibrant, somewhat abstract, and reminiscent of a vintage children’s book. Readers will be delighted to learn about the many tasks a cowboy goes through in a day because the illustrations give a colorful portrayal of their livelihood.\" —School Library Connection'], 16.1399993896484, None, ['1927018501', '1909263664', '0967446864', '1626720800', '0763698415', '0147513529', '0553496557', '1454908793', '0152056491', '1925089185', '0525428372', '0803733399', '0679880836', '1927583918', '1909263494', '0374460310', '006024156X', '0140564349', '0399160841', '0761451889', '1772271403', '1943147302', '1936261294', '1561455709', '1596439491', '0803710402', '0525478493', '0399257845', '0316182958', '1911171720', '1452136467', '0763671592', '1481426400', '0803735588', '0763611395', '1626721270', '177138025X', '0763687588', '0763639036', '0763678880', '0763628409', '1561452408', '1845077490', '0449810720', '0763690457', '1338298275', 'B006AL2PBK', '0989407136', '1848778627', '0152060456', '0374301239', '1925089193', '150982409X', '0807563730', '1596439645', '1878076493', '1681192101', '0987186019', '0545906431', '1442429887', '044981744X', '0399244638', '1880000547', '1927018242', '177227111X', '1925089266', '0553507613', '0316394726', '1620142856', '006246776X', '1459802489', '0062386336', '1719011982', '1945289120', '0982636679', '155152709X', '0152053158', '1554987946', '1945289090', '1948340003', '0803731957', '1770498397', '1454914548', '0060241918', '073522935X', '155379673X', '0805087761', '1596438665', '1554537045', '1925089223', '0999890808', '0892393084', '099895800X', '1939547377', '0823423433', '145981178X', '1338215604', '0762462477', 'B005F0NS0Y'], ['1909263664', '1927018501', '1626720800', '1454908793', '0967446864', '0152056491', '006024156X', '0763698415', '0763628409', '0803733399', '1927583918', '0147513529', '1925089185', '0439341558', '1909263494', '1772271403', '0525478493', '0316182958', '0679880836', '0553496557', '0525428372', '0763687588', '0060241918', '0140564349', '0374460310', '0449810720', '1626721270', '0763671592', '177138025X', '1936261294', '0399160841', '1590789369', '0553507613', '0064438724', '0989407136', '0374301239', '0152065458', '0805087761', '1561455709', '0823423433', '1599900998', '1596439491', '0399257845', '0316394726', '1943147302', '1481426400', '0763611395', '0803710402', '148143022X', '0763678880', '0761451889', '0545094666', '068981528X', '1927018242', '0399170723', '1338139088', '190926394X', '1939547377', '1596439645'], '35,065inBooks(', \"Visit Amazon's Kate Hoefler Page\", ['Books', \"Children's Books\", 'Literature & Fiction']), ('054422809X', 'A Wolf Called Romeo', None, ['', '', '', '\"The sweet and cautionary tale of a wolf that liked to play with dogs...An astute, deeply respectful encounter between man and wolf.\" -- Kirkus Reviews \"Jans is an exceptional storyteller  no nature writer can top him in terms of sheer emotional force  and he frames even the smallest moment with haunting power.\" --The New York Times', '', '', '', '', '', '', '', ''], 10.0799999237061, None, ['1593593287', '0156034506', '1426210124', '1416551778', '163226000X', '0544102533', '1101902809', '0452287359', '0316881791', '1414397844', '0547386087', '1476738246', '1426218869', '0882408070', '0762779055', '1942268718', '0802124739', '1602231974', '1546448322', '1570612935', '0226516970', '1546556230', '088240458X', '1940941695', '0811722538', '1490372059', '0345496094', '153346801X', '0385317018', 'B079H19L8V', 'B000LPS2TA', '0544325265', '0765374641', '0691164355', '1519574800', '1592132413', '0061673986', 'B000E4I2BQ', '1250094593', '0761187286', '1250080444', '1426320825', '1602232180', '0375759700', '0692414088', '0544938321', '0718098579', '0385482264', 'B07G235ZP9', '1492614076', '1635714133', '1603587551', '1101902787', '0765374668', '0882405136', '1496421752', 'B000EXRSI0', '1983702935', '1549203312', '0765395010', '0062409212', '0061997110', '038554457X', '0307929612', 'B002NQ2K16', '1338139320', '1101911530', 'B07D591ST1', '1524763136', '0735220697', '0399590501'], ['1426210124', '1593593287', '0316881791', '1101902809', '0156034506', '163226000X', '1426218869', '1416551778', 'B012HTGOJ2', '0226516970', '159373106X', '1632170655', 'B00QMNW6QU', '1426330561', '1490372059', '0544102533', '0306824930', '0882408070', '1641939249', '0684163225', '1602231974', '1632170515', '0545093112', '098481132X', '0064400581', '1635011086', '1546448322', '088240458X', '1414397844', '0140384235', '0061626570', '0452287359', '1723906093', '159921069X', '1250094593', '1605981338', '1426309139', '0465094643', 'B000LPS2TA', '1426320825', '0615278701', '0544484126', '1519574800', '0802124739', '0816610266', 'B0042I199W', '0762779055', '0385482264', '1942268718', '1555914489', '0517577291', '1940941695', '1402714556', 'B07DFV3SNT', '0345530608', '0345496094', '1931832269', '0547386087', '0060935731'], '26,221inBooks(', \"Visit Amazon's Nick Jans Page\", ['Books', 'Science & Math', 'Biological Sciences']), ('0544456122', \"Edgar Allan Poe's Pie: Math Puzzlers in Classic Poems\", None, ['', '', '', '', '', '', \"J. Patrick Lewis has authored more than fifty books of poetry for children. In 2011, he was named the Childrens Poet Laureate by the Poetry Foundation and was given the NCTE Excellence in Children's Poetry Award. He lives in Westerville, Ohio.Visit his website at www.jpatricklewis.com.\", '', ''], 7.98999977111816, None, ['0439598400', '0545044456', '0670861944', '0823425487', '0933174748', '0689844425', '1570911525', '1570918902', '1596470720', '0439175402', '1570911967', '1402754728', '1570911649', '0394850106', '157091169X', '1570917744', '1601442262', '1570918929', '1119358833', '160144897X', '150313699X', '1570911509', '1601445075', '0763641308', '0823437701', '0763615927', '1570917728', '0688092349', '1250047757', '1416918612', '1404856900', '0152058486', '1250123682', '067001138X', '0439210445', '0823427633', '111935871X', '0805062998', '141973024X', '0805065725', '0439443903', '1847808891', '0545195713', '1935099752', '1119358809', '0761367268', '1570917922', '140484791X', '0393351475', '1570911991', '1570917280', '0517885581', '1596433078', '1570917760', '1601442270', '043956090X', '1501110071', 'B002AODZFQ'], ['1454921358', '0439598400', '0670861944', '1570911649', '0805062998', '1570911525', '0823425487', '0933174748', '0545044456', '1570911509', '1596470720', '1570911967', '0823430499', '1596433078', '0763615927', '1570918929', '1250035856', '0689848374', '0439443881', '1570917744', '0062455788', '0439443903', '1402754728', '0670910570', '0439210445', '1570917280', '0689844425', '0147515823', '0439175402', '0062363603', '0439755379', '159078927X', '0374348758', '0440219361', '0062202693', '0399172580', 'B015WPVXI0', '1570918902', '0525479015', '1468542699', '1250047757', '0394850106', '1484717791', '1974343472', '0064460932', '1570917760', '0810938723', '0785814531', '0763641308', 'B00NVPUCLS', '1426320949', '1631594834', '0553523546', '0385474296', '1626726108', '0545316480', '157091169X', '0439896037', '1943147302'], '237,536inBooks(', \"Visit Amazon's J. Patrick Lewis Page\", ['Books', \"Children's Books\", 'Literature & Fiction']), ('0544592603', \"Journeys: Reader's Notebook Volume 2 Grade 1\", None, ['', ''], -1.0, None, ['0547860609', '0544592611', '0544543319', '0544543998', '0544543300', '0544543351', '0547864477', '0544544005', '0547871589', '054459262X', '0153414677', '0544227468', '0153653612', '0618961232', '0618827374', '054453851X', '0547860625', '0547246412', '0547249144', '0544592638', '0547885415', '0544592654', '0544538552', '0544592646', '0547251718', '0547251742', '0547885458', '0544227360', '0153471174', '054786065X', '0544203836', '0547885474', '0544592662', '0153384980', '0547860668', '0547588151', '0547871597', '0547885423', '0547864523', '0547885490', '0544543378', '0544433351', '0547251688', '0544587227', '0544587235', '0547577729', '0618686150', '0544543386', '0544230892', '0618961305', '0547912307', '0547251785', '0153414790', '061842380X', '0153472928', '0618961259', '0544869435', '0547874189', '0547246404', '0547864493', '0153653639', '0547251769', '0618827404', '0544778383', '0153414804', '0544543416', '0547588712', '0153653647', '0547587791', '0547860676', '0544090764', '0544543394', '0544569342', '0547893884', '0544847105', '0544230264', '0547860706', '0821580019', '0547885008', '0547254032', '0547860684', '0153567589', '0544465202', '0544226178', '0544544056', '0544619404', '0547874197', '0544619412', '0153471204', '0547588143', '0544025466', '1420624563', '0547251831', '9810732856', '088724758X', '054443336X', '0153472936', '0547251939', '142843092X', '0547588127'], ['0547860609', '0547251718', '0547246412', '0547251688', '0547860625', '0547871589', '0547885474', '0544227468', '0544543351', '0547251742', '054453851X', '0547249144', '054459262X', '0544543300', '0547251785', '0547251769', '0547871597', '0544619404', '0544592654', '0547885458', '0544543319', '0547864477', '0547588151', '0547885415', '0547874189', '0544869435', '0544433351', '0544227360', '0547246404', '0544543378', '0547874197', '0544592662', '0544544005', '0547254032', '0544543998', '0547885008', '0545200814', '0547251831', '0544847105', '0544592638', '0547860684', '0544432711', '0544613392', '0544619390', '0547577729', '054443272X', '0544619412', '0547251912', '0547859198', '0544203836', '0547893884', '0547885512', '054786065X', '054724634X', '0547246420', '0544592689', '0547860668', '0544164849', '0547912293', '0547866860'], '523,324inBooks(', 'HOUGHTON MIFFLIN HARCOURT', ['Books', 'Education & Teaching', 'Studying & Workbooks']), ('0544870271', 'I Know How You Feel: The Joy and Heartbreak of Friendship in Womens Lives', None, ['', '', '', '', '', ''], 8.17000007629395, None, ['1101885807', '039958837X', '1775111202', '1462522718', '1250074657', '0316259616', '1101986123', '067086403X', '1328915433', '0525522603', '144223816X'], ['1101885807', '0830846425', '1493920154', '052552004X'], '449,474inBooks(', \"Visit Amazon's F. Diane Barth Page\", ['Books', 'Self-Help', 'Relationships']), ('B000EOHZKU', \"The Sheik's Captive (Harlequin Romance, No. 324)\", None, [\"Diane knew what Khasim had in mind And the prospect was terrifying. The fact that she'd brought it on herself by foolishly riding alone in the Sahara desert, didn't help. After Diane Ronay was thrown from her bolting horse, Sheik Khasim ben Haran's trained hawk had spotted her golden hair and had brought its master to her. But fate could be cruel. For when the Sheik learned her identity he planned to use Diane to wreak vengeance on her grandfather, his longtime enemy. By violating her chastity he would make her grandfather suffer!\"], 13.1999998092651, None, ['0373110065', '037301399X', 'B000QSOTO4', '037310734X', 'B000X1MRO8', '0373104502', '0373108540', '0373103549', '0373805535'], ['037301399X', '0263738272', '0373150016', '037310734X', '0373110065', '0263719731', '0373105665', 'B000GSGMK8', '0373002882', 'B000F5LSGK', 'B01F9FV3D8', '0373805535', '037310006X', '0373003005'], '2,763,635inBooks(', \"Visit Amazon's Violet Winspear Page\", ['Books', 'Romance']), ('B000EOK0Y8', 'Faith and the Edge of Danger', None, ['Autobiography of Ruby Messenger.'], 202.5, None, None, None, '16,398,440inBooks(', 'RUBY I MESSENGER', None), ('B000EQ5KDW', 'The Family Rosary Including the Angelus with Pope John Paul Ii', None, ['The Rosary with Pope John Paul II'], 64.8099975585938, None, None, None, '3,274,339inBooks(', 'Pope John Paul II', ['Books', 'Religion & Spirituality']), ('B000EW5HOS', 'Mormon Konyve (Book of Mormon - Hungarian translation)', None, None, 23.9899997711182, None, None, None, '6,142,302inBooks(', 'anonymous', None)]\n"
     ]
    }
   ],
   "source": [
    "with psycopg2.connect(\"host=postgres dbname=amazonreview \"\n",
    "                      \"user=postgres password=postgres\") as conn:\n",
    "    cur = conn.cursor()\n",
    "    \n",
    "    cur.execute(f\"SELECT * FROM {table_name} limit 10;\")\n",
    "    print(cur.fetchall())"
   ]
  },
  {
   "cell_type": "markdown",
   "metadata": {},
   "source": [
    "#### (2) reviewUser Dimension Table"
   ]
  },
  {
   "cell_type": "code",
   "execution_count": 198,
   "metadata": {},
   "outputs": [],
   "source": [
    "table_name = 'reviewuser'\n",
    "(\n",
    "    reviewDf.dropna()\n",
    "    .select(['reviewerID', 'reviewerName'])\n",
    "    .withColumnRenamed('reviewerID','userID')\n",
    "    .withColumnRenamed('reviewerName','userName')\n",
    "    .dropDuplicates(['userID'])\n",
    "    .write\n",
    "    .jdbc(url=url, table=table_name, \n",
    "          properties=db_configs, mode='append')\n",
    ")"
   ]
  },
  {
   "cell_type": "code",
   "execution_count": 232,
   "metadata": {},
   "outputs": [
    {
     "name": "stdout",
     "output_type": "stream",
     "text": [
      "[('A10R2Z2FQLPYEY', 'Buys Too Much Stuff'), ('A11T9RH986WFWA', 'Siamese MMA'), ('A126XB22Y6RXYW', 'Lucy'), ('A12LJXFVA2DT8C', 'Shannon'), ('A12UL2KGFLQP9E', 'Lynda&#039;s AWOL'), ('A12YSWLNZXMZVM', 'K.Brooklyn'), ('A131JP42GCM8Z8', 'Amazon Customer'), ('A13FGQDHTDRV14', 'John Wheeler'), ('A13O3ZQKG7NWFR', 'Annalisa'), ('A149KMYLTU33M2', 'Hullabaloo Brew Co')]\n"
     ]
    }
   ],
   "source": [
    "with psycopg2.connect(\"host=postgres dbname=amazonreview \"\n",
    "                      \"user=postgres password=postgres\") as conn:\n",
    "    cur = conn.cursor()\n",
    "    \n",
    "    cur.execute(f\"SELECT * FROM {table_name} limit 10;\")\n",
    "    print(cur.fetchall())"
   ]
  },
  {
   "cell_type": "markdown",
   "metadata": {},
   "source": [
    "#### (3) review Dimension Table"
   ]
  },
  {
   "cell_type": "code",
   "execution_count": 233,
   "metadata": {},
   "outputs": [],
   "source": [
    "table_name = 'review'\n",
    "(\n",
    "    reviewDf\n",
    "    .select(['ID', 'reviewText', 'summary', 'image'])\n",
    "    .withColumn('reviewText', F.regexp_replace('reviewText', u'\\u0000', \"\"))\n",
    "    .withColumn('summary', F.regexp_replace('summary', u'\\u0000', \"\"))    \n",
    "    .withColumnRenamed('ID','reviewID')    \n",
    "    .write\n",
    "    .jdbc(url=url, table=table_name, \n",
    "          properties=db_configs, mode='append')\n",
    ")"
   ]
  },
  {
   "cell_type": "code",
   "execution_count": 234,
   "metadata": {},
   "outputs": [
    {
     "name": "stdout",
     "output_type": "stream",
     "text": [
      "[(1623497637888, 'Immensely readable as is typical with John Grisham.  The protagonists were not particularly likable it their story was pretty enjoyable. I look forward to the next novel by Mr. Grisham.', 'Not his best but pretty good', None), (1623497637889, 'Love it ! Love it ! Love it ! After getting this book, I can give it a glowing recommendation to anyone looking to expand to or are already involved in foreign investment in any capacity. The avenues to bring about your desired result are new and and exciting as advertised.', 'Love it! Love it', None), (1623497637890, 'I absolutely did not want to put this book down, and I was disappointed when it was over. The author has a way of bringing out each personality and remaining consistent throughout the book. I could actually see the landscapes and picture in my mind where each place was when described. I never thought I would want to go to Alaska, but now I do!', 'Exciting and adventurous, with very clear descriptions of both people and scenery.', None), (1623497637891, \"Three little words, but so hard for a doctor to say.  Just as you think the past can't do any more damage, Riley Hart throws another curve... And you just have to hold on to the end.  Thank you for dealing with the cycle and the pain of addiction so eloquently.\", 'I Love You...', None), (1623497637892, \"This looked very promising.  Unfortunately, most of the main dish recipes called for grilling and we are not allowed to have a BBQ where we live because there are so many trees, so it doesn't quite work for us.\", 'This looked very promising. Unfortunately, most of the ...', None), (1623497637893, 'The author has a wonderful way of pulling you into her stories.  Love the series!  Always impatient for the next book.', 'Great book!.', None), (1623497637894, '\"The Memo\" creates a new dimension for how to view management in the world of business. John Yoest incorporates historical and biblical references to enhance the reader\\'s understanding of leadership. I would recommend \"the memo\" to any individual wanting a more diverse way of looking at business in the modern world.', 'I would recommend \"the memo\" to any individual wanting a more diverse ...', None), (1623497637895, \"Oh man I'm so in love with this series! They said we would have wait until this fall ! I'm not sure I can't wait!!!\", 'So hungry for more!', None), (1623497637896, \"This is a book that I will be reading over again.  It is sexy fun and full of excitement from the very beginning to the very end. Absolutely a great book and a great add to this series.  I  was gifted this book for a honest review. Don't miss out this is a must buy. Cannot wait for the next book now. Awesome.\", 'Absolutely,  Awesome & Sexy', None), (1623497637897, 'I love the book and the series, i do need and want the next book........  refugee made me cry at the choice Aria had....!', 'best', None)]\n"
     ]
    }
   ],
   "source": [
    "with psycopg2.connect(\"host=postgres dbname=amazonreview \"\n",
    "                      \"user=postgres password=postgres\") as conn:\n",
    "    cur = conn.cursor()\n",
    "    \n",
    "    cur.execute(f\"SELECT * FROM {table_name} limit 10;\")\n",
    "    print(cur.fetchall())"
   ]
  },
  {
   "cell_type": "markdown",
   "metadata": {},
   "source": [
    "#### (4) time Dimension Table"
   ]
  },
  {
   "cell_type": "code",
   "execution_count": 237,
   "metadata": {},
   "outputs": [],
   "source": [
    "table_name = 'time'\n",
    "\n",
    "time2year = F.udf(\n",
    "    lambda x : datetime.fromtimestamp(x).year, T.IntegerType())\n",
    "time2month = F.udf(\n",
    "    lambda x : datetime.fromtimestamp(x).month, T.IntegerType())\n",
    "time2day = F.udf(\n",
    "    lambda x : datetime.fromtimestamp(x).day, T.IntegerType())\n",
    "time2hour = F.udf(\n",
    "    lambda x : datetime.fromtimestamp(x).hour, T.IntegerType())\n",
    "time2minute = F.udf(\n",
    "    lambda x : datetime.fromtimestamp(x).minute, T.IntegerType())\n",
    "\n",
    "(\n",
    "    reviewDf\n",
    "    .select(['unixReviewTime'])\n",
    "    .dropDuplicates(['unixReviewTime'])\n",
    "    .withColumnRenamed('unixReviewTime', 'unixTime')\n",
    "    .withColumn('year', time2year('unixTime'))\n",
    "    .withColumn('month',time2month('unixTime'))\n",
    "    .withColumn('day', time2day('unixTime'))\n",
    "    .withColumn('hour',time2hour('unixTime'))\n",
    "    .withColumn('minute',time2minute('unixTime'))\n",
    "    .write\n",
    "    .jdbc(url=url, table=table_name, \n",
    "          properties=db_configs, mode='append')\n",
    "    \n",
    ")"
   ]
  },
  {
   "cell_type": "code",
   "execution_count": 238,
   "metadata": {},
   "outputs": [
    {
     "name": "stdout",
     "output_type": "stream",
     "text": [
      "[(1440201600, 2015, 8, 22, 0, 0), (1515628800, 2018, 1, 11, 0, 0), (1509926400, 2017, 11, 6, 0, 0), (1429142400, 2015, 4, 16, 0, 0), (1482278400, 2016, 12, 21, 0, 0), (1458000000, 2016, 3, 15, 0, 0), (1292371200, 2010, 12, 15, 0, 0), (1420243200, 2015, 1, 3, 0, 0), (1412121600, 2014, 10, 1, 0, 0), (1201651200, 2008, 1, 30, 0, 0)]\n"
     ]
    }
   ],
   "source": [
    "with psycopg2.connect(\"host=postgres dbname=amazonreview \"\n",
    "                      \"user=postgres password=postgres\") as conn:\n",
    "    cur = conn.cursor()\n",
    "    \n",
    "    cur.execute(f\"SELECT * FROM {table_name} limit 10;\")\n",
    "    print(cur.fetchall())"
   ]
  },
  {
   "cell_type": "markdown",
   "metadata": {},
   "source": [
    "#### (5) reviewlog Fact Table"
   ]
  },
  {
   "cell_type": "code",
   "execution_count": 266,
   "metadata": {},
   "outputs": [],
   "source": [
    "vote2int = F.udf(\n",
    "    lambda x : int(x.replace(',','')) if x!= None else 0, T.IntegerType())\n",
    "\n",
    "table_name = 'reviewlog'\n",
    "(\n",
    "    reviewDf\n",
    "    .select(['ID', 'reviewerID', 'asin', \n",
    "             'vote', 'overall', 'unixReviewTime'])\n",
    "    .withColumn(\"vote\", vote2int('vote'))\n",
    "    .withColumnRenamed('ID','reviewID')    \n",
    "    .withColumnRenamed('reviewerID','userID')\n",
    "    .withColumnRenamed('asin','productID')\n",
    "    .withColumnRenamed('unixReviewTime','unixTime')\n",
    "    .write\n",
    "    .jdbc(url=url, table=table_name, \n",
    "          properties=db_configs, mode='append')\n",
    ")"
   ]
  },
  {
   "cell_type": "code",
   "execution_count": 222,
   "metadata": {},
   "outputs": [
    {
     "name": "stdout",
     "output_type": "stream",
     "text": [
      "[(214748364800, 'A00463782V7TKAP9EMNL', '1978447221', 0, 4.0, 1512604800), (214748364801, 'A0061296P44YI9YQBDHH', '1978393296', 0, 5.0, 1508889600), (214748364802, 'A0061296P44YI9YQBDHH', '1981380043', 0, 5.0, 1512604800), (214748364803, 'A0089073KZNVNZG94KE7', '0345804406', 0, 5.0, 1420416000), (214748364804, 'A00929559H7AYKDCV7UE', '1451649320', 0, 4.0, 1485388800), (214748364805, 'A0099735VDZ3HDCAAYKL', '1540772888', 0, 5.0, 1493078400), (214748364806, 'A0110125LPMFR5Q4Z44R', '0811821846', 2, 3.0, 1433116800), (214748364807, 'A0137974MNNUR2E8S9SH', '0615937284', 2, 5.0, 1391212800), (214748364808, 'A01423305PUDQS2VV7QX', '1508715041', 0, 5.0, 1428019200), (214748364809, 'A0149534Z6YNFOGAJD5E', '0307881393', 0, 4.0, 1366848000)]\n"
     ]
    }
   ],
   "source": [
    "with psycopg2.connect(\"host=postgres dbname=amazonreview \"\n",
    "                      \"user=postgres password=postgres\") as conn:\n",
    "    cur = conn.cursor()\n",
    "    \n",
    "    cur.execute(f\"SELECT * FROM {table_name} limit 10;\")\n",
    "    print(cur.fetchall())"
   ]
  },
  {
   "cell_type": "markdown",
   "metadata": {},
   "source": [
    "### 4.2 Data Quality Checks\n",
    "Explain the data quality checks you'll perform to ensure the pipeline ran as expected. These could include:"
   ]
  },
  {
   "cell_type": "markdown",
   "metadata": {},
   "source": [
    "#### `product` table check"
   ]
  },
  {
   "cell_type": "code",
   "execution_count": 269,
   "metadata": {},
   "outputs": [],
   "source": [
    "table_name = 'product'\n",
    "with psycopg2.connect(\"host=postgres dbname=amazonreview \"\n",
    "                      \"user=postgres password=postgres\") as conn:\n",
    "    cur = conn.cursor()\n",
    "    \n",
    "    cur.execute(f\"SELECT COUNT(*) FROM {table_name};\")\n",
    "    nums = cur.fetchall()[0][0]"
   ]
  },
  {
   "cell_type": "code",
   "execution_count": 270,
   "metadata": {},
   "outputs": [],
   "source": [
    "assert nums == cleansed_meta_size, \"#Cleansed Data Row == # RDBS DATA ROW\""
   ]
  },
  {
   "cell_type": "markdown",
   "metadata": {},
   "source": [
    "#### `reviewlog` table check"
   ]
  },
  {
   "cell_type": "code",
   "execution_count": 267,
   "metadata": {},
   "outputs": [],
   "source": [
    "table_name = 'reviewlog'\n",
    "with psycopg2.connect(\"host=postgres dbname=amazonreview \"\n",
    "                      \"user=postgres password=postgres\") as conn:\n",
    "    cur = conn.cursor()\n",
    "    \n",
    "    cur.execute(f\"SELECT COUNT(*) FROM {table_name};\")\n",
    "    nums = cur.fetchall()[0][0]"
   ]
  },
  {
   "cell_type": "code",
   "execution_count": 268,
   "metadata": {},
   "outputs": [],
   "source": [
    "assert nums == cleansed_review_size"
   ]
  },
  {
   "cell_type": "markdown",
   "metadata": {},
   "source": [
    "### 4.3 Data dictionary \n",
    "Create a data dictionary for your data model. For each field, provide a brief description of what the data is and where it came from. You can include the data dictionary in the notebook or in a separate file.\n",
    "\n",
    "\n"
   ]
  },
  {
   "cell_type": "markdown",
   "metadata": {},
   "source": [
    "#### `Product` Table\n",
    "\n",
    "| columns    | description |\n",
    "| :--------  | :---- |\n",
    "| productID       | ID of the product, e.g. 000031852 | \n",
    "| title      | name of the product |\n",
    "| feature    | bullet-point format features of the product |\n",
    "| desription | description of the product |\n",
    "| price      | price in US dollars (at time of crawl) |\n",
    "| image      | url of the product image |\n",
    "| also_buy    | related products (also buy) |\n",
    "| also_view    | related products (also view) |\n",
    "| rank  | sales rank information |\n",
    "| brand      | brand name |\n",
    "| category | list of categories the product belongs to |"
   ]
  },
  {
   "cell_type": "markdown",
   "metadata": {},
   "source": [
    "#### `reivew` table\n",
    "\n",
    "| columns    | description |\n",
    "| :--------  | :---- |\n",
    "| userID       | ID of the reviewer, e.g. A2SUAM1J3GNN3B | \n",
    "| userName    | name of the reviewer |"
   ]
  },
  {
   "cell_type": "markdown",
   "metadata": {},
   "source": [
    "#### `reivewUser` table\n",
    "\n",
    "| columns    | description |\n",
    "| :--------  | :---- |\n",
    "| userID       | ID of the reviewer, e.g. A2SUAM1J3GNN3B | \n",
    "| userName    | name of the reviewer |"
   ]
  },
  {
   "cell_type": "markdown",
   "metadata": {},
   "source": [
    "#### `unixTime` table\n",
    "\n",
    "| columns    | description |\n",
    "| :--------  | :---- |\n",
    "| unixTime   | time of the review (unix time) | \n",
    "| year       |  year of unixTime |\n",
    "| month      | month of unixTime |\n",
    "| day        | day of unixTime |\n",
    "| hour       | hour of unixTime |\n",
    "| minute     | minute of unixtime |"
   ]
  },
  {
   "cell_type": "markdown",
   "metadata": {},
   "source": [
    "#### `reviewlog` table\n",
    "\n",
    "| columns    | description |\n",
    "| :--------  | :---- |\n",
    "| reviewID       | ID of the review log| \n",
    "| productID      |  ID of the product, e.g. 0000013714 |\n",
    "| userID    | ID of the reviewer |\n",
    "| vote  | helpful votes of the review |\n",
    "| overall    | rating of the product |\n",
    "| unixTime | time of the review by unix |"
   ]
  },
  {
   "cell_type": "markdown",
   "metadata": {},
   "source": [
    "## Step 5: Complete Project Write Up\n"
   ]
  },
  {
   "cell_type": "markdown",
   "metadata": {},
   "source": [
    "#### Environment Configuration\n",
    "\n",
    "1. DataLake : Amazon S3 \n",
    "2. ETL Process : Spark (by Docker image)\n",
    "3. Data Warehouse : Postgresql-Cstore (by Docker image)\n",
    "\n",
    "#### Senarios\n",
    "\n",
    "  In the development environment, the Docker images are configured to operate on a single machine. However, when the volume of data grows, we can easily convert the ETL Process to Amazon EMR and the Postgresql-cstore to Amazon redshift. Redishift and amazon EMR, which perform distributed computing, can flexibly scale up and down to meet demand, so even more than 100+ people can handle it without problems.\n",
    "\n",
    "In order to operate periodically(such as The pipelines would be run on a daily basis by 7 am every day) , we can easily convert the ETL pipeline currently written as a notebook file to airflow. In the case of books, it is not very sensitive to fashion and trend, so the update cycle is enough daily.\n",
    "\n",
    "\n"
   ]
  }
 ],
 "metadata": {
  "kernelspec": {
   "display_name": "Python 3",
   "language": "python",
   "name": "python3"
  },
  "language_info": {
   "codemirror_mode": {
    "name": "ipython",
    "version": 3
   },
   "file_extension": ".py",
   "mimetype": "text/x-python",
   "name": "python",
   "nbconvert_exporter": "python",
   "pygments_lexer": "ipython3",
   "version": "3.7.6"
  },
  "toc": {
   "base_numbering": 1,
   "nav_menu": {},
   "number_sections": false,
   "sideBar": true,
   "skip_h1_title": false,
   "title_cell": "Table of Contents",
   "title_sidebar": "Contents",
   "toc_cell": false,
   "toc_position": {},
   "toc_section_display": true,
   "toc_window_display": false
  },
  "varInspector": {
   "cols": {
    "lenName": 16,
    "lenType": 16,
    "lenVar": 40
   },
   "kernels_config": {
    "python": {
     "delete_cmd_postfix": "",
     "delete_cmd_prefix": "del ",
     "library": "var_list.py",
     "varRefreshCmd": "print(var_dic_list())"
    },
    "r": {
     "delete_cmd_postfix": ") ",
     "delete_cmd_prefix": "rm(",
     "library": "var_list.r",
     "varRefreshCmd": "cat(var_dic_list()) "
    }
   },
   "types_to_exclude": [
    "module",
    "function",
    "builtin_function_or_method",
    "instance",
    "_Feature"
   ],
   "window_display": false
  }
 },
 "nbformat": 4,
 "nbformat_minor": 4
}
